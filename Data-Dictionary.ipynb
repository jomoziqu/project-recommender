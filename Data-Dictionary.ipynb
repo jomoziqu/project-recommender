{
 "cells": [
  {
   "cell_type": "markdown",
   "id": "9f7dfb1e-7e31-46f1-83fe-529784f5ec08",
   "metadata": {},
   "source": [
    "<b>Computer Science Course Unit for Year 2 and 3</b>\n",
    "\n",
    "-Each of this Units contains marks (between 0 to 100) obtain by Students(40) during their 2nd and 3rd Year of Study at Rongo University"
   ]
  },
  {
   "cell_type": "markdown",
   "id": "95fde35c-9058-4a92-8269-729722dc687b",
   "metadata": {},
   "source": [
    " \n",
    "**Year 2 Courses**                                                                                          \n",
    "<b><i>Semester One</i></b>\n",
    "<li>Com 210: <b>Procedural Programming II</b></li> \n",
    "<li>Com 211: <b>System Software</b></li>\n",
    "<li>Com 212: <b>Digital Electronics I</b></li>\n",
    "<li>Com 215: <b>Electrical Circuits</b></li>\n",
    "<li>Com 217: <b>Electronics I</b></li>\n",
    "<li>Mat 210: <b>Calculus II</b></li>\n",
    "<li>Mat 212: <b>Linear Algebra I</b></li><br>\n",
    "\n",
    "\n",
    "<b><i>Semester Two</i></b>\n",
    "<li>Com 220: <b>Software Engineering I</b></li> \n",
    "<li>Com 221: <b>Computer Organization</b></li>\n",
    "<li>Com 223: <b>Operating Systems and Networks</b></li>\n",
    "<li>Com 224: <b>Data Structures</b></li>\n",
    "<li>Com 225: <b>Mathematics for Computer Science</b></li>\n",
    "<li>Mat 220: <b>Linear Algebra II</b></li><br>\n",
    "\n",
    "\n",
    "**Year 3 Courses**                                                                                          \n",
    "<b><i>Semester One</i></b>\n",
    "<li>Com 310: <b>Computer Architecture</b></li> \n",
    "<li>Com 312: <b>Software Engineering II</b></li>\n",
    "<li>Com 314: <b>Digital Electronics II</b></li>\n",
    "<li>Com 315: <b>Algorithms</b></li>\n",
    "<li>Com 318: <b>Database Systems</b></li>\n",
    "<li>Com 319: <b>Analogue and Digital Communication Systems</b></li><br>\n",
    "\n",
    "\n",
    "<b><i>Semester Two</i></b>\n",
    "<li>Com 320: <b>Digital Systems Design</b></li> \n",
    "<li>Com 321: <b>Compiler Design</b></li>\n",
    "<li>Com 322: <b>Data Communications and Computer Networks</b></li>\n",
    "<li>Com 323: <b>Information Systems Security</b></li>\n",
    "<li>Com 324: <b>Artificial Intelligence</b></li>\n",
    "<li>Com 326: <b>Software Development</b></li>"
   ]
  },
  {
   "cell_type": "code",
   "execution_count": null,
   "id": "8a9f548a-a9e0-47f3-a481-9944c1e48021",
   "metadata": {},
   "outputs": [],
   "source": []
  }
 ],
 "metadata": {
  "kernelspec": {
   "display_name": "Python 3 (ipykernel)",
   "language": "python",
   "name": "python3"
  },
  "language_info": {
   "codemirror_mode": {
    "name": "ipython",
    "version": 3
   },
   "file_extension": ".py",
   "mimetype": "text/x-python",
   "name": "python",
   "nbconvert_exporter": "python",
   "pygments_lexer": "ipython3",
   "version": "3.8.16"
  }
 },
 "nbformat": 4,
 "nbformat_minor": 5
}
